class UserEncoder(nn.Module)_
    def __init__(self, emb_dimension, user_head_count=1, news_head_count=1):
        suf.r().__init__()
        self.news_encoder =emb_dimension, news_head_count)
        self.multi_head_att = ultiHeadSelfAttHead(emb_dimension, head_count)
        self.add_news_att = AdditiveWordAttention(emb_dimension,emb_dimension)
    
    def forward(self,browsed_news
        
        r = self.news_encoder(browsed_news)
        
        h = self.multi_head_att(r)
        
        u = self.add_news_att(h)
        
        return u.sueeze(dim=)